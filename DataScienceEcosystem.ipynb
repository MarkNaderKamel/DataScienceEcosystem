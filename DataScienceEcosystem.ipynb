{
 "cells": [
  {
   "cell_type": "markdown",
   "id": "a672c543-959c-41aa-814b-3b1eafeaed21",
   "metadata": {},
   "source": [
    "# H1: Data  Science Tools and Ecosystem"
   ]
  },
  {
   "cell_type": "markdown",
   "id": "7fccfd5d-4dff-4b67-9d84-073e6a8c8aea",
   "metadata": {
    "tags": []
   },
   "source": [
    "# H5: In this course I have learned about the Tools that I can use as a Data Science Engineer"
   ]
  },
  {
   "cell_type": "markdown",
   "id": "7ecd19ab-5fde-4683-8b22-c19da8d962d1",
   "metadata": {},
   "source": [
    "# Data Science Programming Languages\n",
    "1. Python\n",
    "2. Java\n",
    "3. C++\n",
    "4. C "
   ]
  },
  {
   "cell_type": "markdown",
   "id": "e88a0646-3cca-4e49-a791-e33607ceda6c",
   "metadata": {},
   "source": [
    "# List of Data Science Library\n",
    "1.Numpy\n",
    "2-Panadas\n",
    "3-Keras\n",
    "4.SciPy"
   ]
  },
  {
   "cell_type": "markdown",
   "id": "61a869f2-75d4-457f-ba5e-5fe018043bcf",
   "metadata": {},
   "source": [
    "# Table Of Data Science Tools\n",
    "1.TensorFlow\n",
    "2.RapidMiner\n",
    "3.Excel\n",
    "4.Tableau"
   ]
  },
  {
   "cell_type": "markdown",
   "id": "16bba4a1-0459-4cfa-9d31-987f993f8c81",
   "metadata": {},
   "source": [
    "# Addition operation\n",
    "2+2"
   ]
  },
  {
   "cell_type": "code",
   "execution_count": null,
   "id": "c51fca01-3afa-4751-bb3f-7eb27a81787c",
   "metadata": {},
   "outputs": [],
   "source": [
    "# This is an example of the arithmetic expression to multply and then add an integer.\n",
    "(3*4)+5"
   ]
  },
  {
   "cell_type": "code",
   "execution_count": null,
   "id": "01276ace-9450-4d03-b00a-467232a2bb19",
   "metadata": {},
   "outputs": [],
   "source": [
    "# This code will convert 200 minutes into hours by diving by 60\n",
    "200/60"
   ]
  },
  {
   "cell_type": "markdown",
   "id": "4c6ee298-af26-4876-b00c-3d7919be1f0a",
   "metadata": {},
   "source": [
    "# H1: Objectives\n",
    "-Python\n",
    "-Java\n",
    "-C"
   ]
  },
  {
   "cell_type": "markdown",
   "id": "0276bb78-1912-4f9f-89a7-549d0171ee64",
   "metadata": {},
   "source": [
    "# H2: Author's Name:\n",
    " Mark Nader"
   ]
  }
 ],
 "metadata": {
  "kernelspec": {
   "display_name": "Python",
   "language": "python",
   "name": "conda-env-python-py"
  },
  "language_info": {
   "codemirror_mode": {
    "name": "ipython",
    "version": 3
   },
   "file_extension": ".py",
   "mimetype": "text/x-python",
   "name": "python",
   "nbconvert_exporter": "python",
   "pygments_lexer": "ipython3",
   "version": "3.7.12"
  }
 },
 "nbformat": 4,
 "nbformat_minor": 5
}
